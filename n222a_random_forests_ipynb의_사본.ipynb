{
  "nbformat": 4,
  "nbformat_minor": 0,
  "metadata": {
    "kernelspec": {
      "display_name": "Python 3",
      "language": "python",
      "name": "python3"
    },
    "language_info": {
      "codemirror_mode": {
        "name": "ipython",
        "version": 3
      },
      "file_extension": ".py",
      "mimetype": "text/x-python",
      "name": "python",
      "nbconvert_exporter": "python",
      "pygments_lexer": "ipython3",
      "version": "3.7.7"
    },
    "colab": {
      "name": "n222a-random-forests.ipynb의 사본",
      "provenance": [],
      "include_colab_link": true
    }
  },
  "cells": [
    {
      "cell_type": "markdown",
      "metadata": {
        "id": "view-in-github",
        "colab_type": "text"
      },
      "source": [
        "<a href=\"https://colab.research.google.com/github/JoonghoonChoi/AI_01_Projects/blob/main/n222a_random_forests_ipynb%EC%9D%98_%EC%82%AC%EB%B3%B8.ipynb\" target=\"_parent\"><img src=\"https://colab.research.google.com/assets/colab-badge.svg\" alt=\"Open In Colab\"/></a>"
      ]
    },
    {
      "cell_type": "markdown",
      "metadata": {
        "id": "RQ8745N3owkj"
      },
      "source": [
        "<img align=\"right\" src=\"https://ds-cs-images.s3.ap-northeast-2.amazonaws.com/Codestates_Fulllogo_Color.png\" width=100>\n",
        "\n",
        "## *DATA SCIENCE / SECTION 2 / SPRINT 2 / NOTE 2*\n",
        "\n",
        "# 📝 Assignment\n",
        "---"
      ]
    },
    {
      "cell_type": "code",
      "metadata": {
        "colab": {
          "base_uri": "https://localhost:8080/"
        },
        "id": "j7eMbzhXYyzq",
        "outputId": "531a6ad3-2e14-4ed4-9640-a7260686cdde"
      },
      "source": [
        "from google.colab import drive\n",
        "drive.mount('/content/drive')"
      ],
      "execution_count": 1,
      "outputs": [
        {
          "output_type": "stream",
          "text": [
            "Mounted at /content/drive\n"
          ],
          "name": "stdout"
        }
      ]
    },
    {
      "cell_type": "code",
      "metadata": {
        "id": "N5x5vPA4ZNQk"
      },
      "source": [
        "!pip install -U category_encoders\n",
        "!pip install -U pandas_profiling"
      ],
      "execution_count": null,
      "outputs": []
    },
    {
      "cell_type": "markdown",
      "metadata": {
        "id": "7IXUfiQ2UKj6"
      },
      "source": [
        "# 랜덤포레스트(Random Forests)\n",
        "\n",
        "### 1) 캐글 대회를 이어서 진행합니다. EDA, 데이터 전처리 부분을 업데이트 하세요.\n",
        "- EDA는 항상 완벽할 수 없지요 한 주간 계속 같은 데이터로 과제를 진행하므로 부족한 부분을 추가하거나 논하세요.\n",
        "- (지금은 feature engineering에 너무 시간을 들이지 마세요!)\n",
        "\n"
      ]
    },
    {
      "cell_type": "code",
      "metadata": {
        "id": "Gv2Q6Uchowk4"
      },
      "source": [
        "import pandas as pd\n",
        "import numpy as np\n",
        "import matplotlib.pyplot as plt\n",
        "import seaborn as sns\n",
        "from IPython.display import set_matplotlib_formats\n",
        "set_matplotlib_formats('retina')\n",
        "\n",
        "a = pd.read_csv('/content/drive/MyDrive/Colab Notebooks/sample_data/prediction-of-h1n1-vaccination/train.csv')\n",
        "b = pd.read_csv('/content/drive/MyDrive/Colab Notebooks/sample_data/prediction-of-h1n1-vaccination/train_labels.csv')['vacc_h1n1_f']\n",
        "\n",
        "df_train = pd.merge(a, b, left_index = True, right_index = True)\n",
        "df_test = pd.read_csv('/content/drive/MyDrive/Colab Notebooks/sample_data/prediction-of-h1n1-vaccination/test.csv')"
      ],
      "execution_count": 37,
      "outputs": []
    },
    {
      "cell_type": "code",
      "metadata": {
        "colab": {
          "base_uri": "https://localhost:8080/"
        },
        "id": "jFIBP1X1ZjQx",
        "outputId": "4bd14583-0149-44fb-b4e6-a8ae7b84ec1b"
      },
      "source": [
        "# train/validation/test set \n",
        "\n",
        "from sklearn.model_selection import train_test_split\n",
        "\n",
        "train, val = train_test_split(df_train, test_size = 0.2, stratify = df_train['vacc_h1n1_f'], random_state = 34)\n",
        "\n",
        "train.shape, val.shape, df_test.shape"
      ],
      "execution_count": 38,
      "outputs": [
        {
          "output_type": "execute_result",
          "data": {
            "text/plain": [
              "((33723, 39), (8431, 39), (28104, 38))"
            ]
          },
          "metadata": {
            "tags": []
          },
          "execution_count": 38
        }
      ]
    },
    {
      "cell_type": "code",
      "metadata": {
        "colab": {
          "base_uri": "https://localhost:8080/"
        },
        "id": "OsLAtemrZlmZ",
        "outputId": "77cf9aa6-7872-4fae-f131-ce599f7856d7"
      },
      "source": [
        "# 기준모델 확인\n",
        "train['vacc_h1n1_f'].value_counts(normalize = True)"
      ],
      "execution_count": 14,
      "outputs": [
        {
          "output_type": "execute_result",
          "data": {
            "text/plain": [
              "0    0.760935\n",
              "1    0.239065\n",
              "Name: vacc_h1n1_f, dtype: float64"
            ]
          },
          "metadata": {
            "tags": []
          },
          "execution_count": 14
        }
      ]
    },
    {
      "cell_type": "code",
      "metadata": {
        "id": "yNvndAF6ZsrR"
      },
      "source": [
        "# feature engineering\n",
        "\n",
        "\n",
        "def feature_engineering(data) : \n",
        "\n",
        "  for col in data.columns :\n",
        "    \n",
        "    # 'seas' 칼럼 키워드 삭제 (타겟이 h1n1 백신 접종 여부이기 때문에 계절독감 관련 설문 내역은 필요하지 않음)   \n",
        "    if 'seas' in col :\n",
        "      seasonal = [col]\n",
        "      data = data.drop(columns = seasonal)\n",
        "    \n",
        "    # 높은 cardinality인 state 특성 제거\n",
        "#    if 'state' in col :\n",
        "#      state = [col]\n",
        "#      data = data.drop(columns = state)\n",
        "\n",
        "  # 의료계 종사자(heath_worker) 특성 값이 1(true) 일 때, 산업군(employment_indsutry) | 직업(employment_occupation) 의 결측치를 관련 값으로 대체 \n",
        "  health_worker_index = data[data['health_worker'] == 1.0].index.tolist()\n",
        "  mask = data['employment_industry'].isna()\n",
        "  mask2 = data['employment_occupation'].isna()\n",
        "\n",
        "  for i in health_worker_index :\n",
        "    data['employment_industry'] = data['employment_industry'].loc[mask].fillna('Health Care and Social Assistance Industries')\n",
        "    data['employment_occupation'] = data['employment_occupation'].loc[mask2].fillna('Healthcare Practitioners and Technical Occupations')\n",
        "\n",
        "  \n",
        "  # 설문대상의 지역을 나타내는 특성도 조합 가능할 것 같음\n",
        "  # cencus_region : 인구조사기관에 따른 지역(북동부,중서부,남부,서부)\n",
        "  # cencus_msa : 인구조사기관에따른 도시 크기(principle > not principle > non-msa)\n",
        "  # hhs_region : 정부산하 건강 관련 기관에서 나눈 10개의 지역\n",
        "  \n",
        "\n",
        "  return data\n",
        "\n",
        "\n",
        "train = feature_engineering(train)\n",
        "val = feature_engineering(val)\n",
        "test = feature_engineering(df_test)"
      ],
      "execution_count": 39,
      "outputs": []
    },
    {
      "cell_type": "code",
      "metadata": {
        "colab": {
          "base_uri": "https://localhost:8080/"
        },
        "id": "GgCrRI6PZ1dF",
        "outputId": "14fd4d05-968f-4c97-97eb-73866b8fdb04"
      },
      "source": [
        "target = 'vacc_h1n1_f'\n",
        "features = train.drop(columns = target).columns\n",
        "\n",
        "X_train = train[features]\n",
        "y_train = train[target]\n",
        "X_val = val[features]\n",
        "y_val = val[target]\n",
        "X_test = test[features]\n",
        "\n",
        "X_train.shape, y_train.shape, X_val.shape, y_val.shape, X_test.shape"
      ],
      "execution_count": 40,
      "outputs": [
        {
          "output_type": "execute_result",
          "data": {
            "text/plain": [
              "((33723, 34), (33723,), (8431, 34), (8431,), (28104, 34))"
            ]
          },
          "metadata": {
            "tags": []
          },
          "execution_count": 40
        }
      ]
    },
    {
      "cell_type": "code",
      "metadata": {
        "id": "kPFBv_zXZ9RY"
      },
      "source": [
        "from category_encoders import OneHotEncoder\n",
        "from category_encoders import OrdinalEncoder\n",
        "\n",
        "from sklearn.impute import SimpleImputer\n",
        "from sklearn.experimental import enable_iterative_imputer\n",
        "from sklearn.impute import IterativeImputer\n",
        "\n",
        "from sklearn.tree import DecisionTreeClassifier\n",
        "from sklearn.ensemble import RandomForestClassifier\n",
        "\n",
        "from sklearn.pipeline import make_pipeline\n",
        "\n",
        "from sklearn.metrics import accuracy_score\n",
        "from sklearn.metrics import f1_score"
      ],
      "execution_count": 41,
      "outputs": []
    },
    {
      "cell_type": "markdown",
      "metadata": {
        "id": "WnGqe3NDowk5"
      },
      "source": [
        "### 2) Ordinal Encoding을 적용해 보세요.\n"
      ]
    },
    {
      "cell_type": "code",
      "metadata": {
        "id": "b4MJya2Howk5",
        "colab": {
          "base_uri": "https://localhost:8080/"
        },
        "outputId": "c49ed8f6-9c6d-4c37-d5b1-8f94065dc62b"
      },
      "source": [
        "pipe_DT = make_pipeline(\n",
        "    OrdinalEncoder(),\n",
        "    IterativeImputer(max_iter = 20, random_state = 34),\n",
        "    DecisionTreeClassifier(min_samples_split = 40, min_samples_leaf = 20, max_depth = 10, random_state = 34, criterion = 'entropy')\n",
        ")\n",
        "\n",
        "pipe_DT.fit(X_train, y_train)"
      ],
      "execution_count": 42,
      "outputs": [
        {
          "output_type": "execute_result",
          "data": {
            "text/plain": [
              "Pipeline(memory=None,\n",
              "         steps=[('ordinalencoder',\n",
              "                 OrdinalEncoder(cols=['opinion_h1n1_vacc_effective',\n",
              "                                      'opinion_h1n1_risk',\n",
              "                                      'opinion_h1n1_sick_from_vacc', 'agegrp',\n",
              "                                      'employment_status', 'census_msa',\n",
              "                                      'employment_industry',\n",
              "                                      'employment_occupation', 'state'],\n",
              "                                drop_invariant=False, handle_missing='value',\n",
              "                                handle_unknown='value',\n",
              "                                mapping=[{'col': 'opinion_h1n1_vacc_effe...\n",
              "                                  skip_complete=False, tol=0.001, verbose=0)),\n",
              "                ('decisiontreeclassifier',\n",
              "                 DecisionTreeClassifier(ccp_alpha=0.0, class_weight=None,\n",
              "                                        criterion='entropy', max_depth=10,\n",
              "                                        max_features=None, max_leaf_nodes=None,\n",
              "                                        min_impurity_decrease=0.0,\n",
              "                                        min_impurity_split=None,\n",
              "                                        min_samples_leaf=20,\n",
              "                                        min_samples_split=40,\n",
              "                                        min_weight_fraction_leaf=0.0,\n",
              "                                        presort='deprecated', random_state=34,\n",
              "                                        splitter='best'))],\n",
              "         verbose=False)"
            ]
          },
          "metadata": {
            "tags": []
          },
          "execution_count": 42
        }
      ]
    },
    {
      "cell_type": "code",
      "metadata": {
        "colab": {
          "base_uri": "https://localhost:8080/"
        },
        "id": "2StM1V7ChNgS",
        "outputId": "23871a8d-58c9-4ce7-e5d0-7adc45567117"
      },
      "source": [
        "X_train.columns"
      ],
      "execution_count": 46,
      "outputs": [
        {
          "output_type": "execute_result",
          "data": {
            "text/plain": [
              "Index(['h1n1_concern', 'h1n1_knowledge', 'behavioral_antiviral_meds',\n",
              "       'behavioral_avoidance', 'behavioral_face_mask', 'behavioral_wash_hands',\n",
              "       'behavioral_large_gatherings', 'behavioral_outside_home',\n",
              "       'behavioral_touch_face', 'doctor_recc_h1n1', 'chronic_med_condition',\n",
              "       'child_under_6_months', 'health_insurance', 'health_worker',\n",
              "       'opinion_h1n1_vacc_effective', 'opinion_h1n1_risk',\n",
              "       'opinion_h1n1_sick_from_vacc', 'agegrp', 'education_comp', 'raceeth4_i',\n",
              "       'sex_i', 'inc_pov', 'marital', 'rent_own_r', 'employment_status',\n",
              "       'census_region', 'census_msa', 'n_adult_r', 'household_children',\n",
              "       'n_people_r', 'employment_industry', 'employment_occupation',\n",
              "       'hhs_region', 'state'],\n",
              "      dtype='object')"
            ]
          },
          "metadata": {
            "tags": []
          },
          "execution_count": 46
        }
      ]
    },
    {
      "cell_type": "code",
      "metadata": {
        "colab": {
          "base_uri": "https://localhost:8080/"
        },
        "id": "BLqiuR6Tc2Af",
        "outputId": "751bf8bd-5dee-4bd3-e33d-4b2c1e090490"
      },
      "source": [
        "# state 특성을 어제와 같이 삭제\n",
        "\n",
        "y_train_pred = pipe_DT.predict(X_train)\n",
        "y_val_pred = pipe_DT.predict(X_val)\n",
        "\n",
        "print('accuracy score 훈련 :', pipe_DT.score(X_train, y_train))\n",
        "print('accuracy score 검증 :', pipe_DT.score(X_val, y_val))\n",
        "print('\\nf1 score 훈련 :', f1_score(y_train, y_train_pred))\n",
        "print('f1 score 검증 :', f1_score(y_val, y_val_pred))"
      ],
      "execution_count": 34,
      "outputs": [
        {
          "output_type": "stream",
          "text": [
            "accuracy score 훈련 : 0.8384485366070634\n",
            "accuracy score 검증 : 0.8120033210769778\n",
            "\n",
            "f1 score 훈련 : 0.6033779848573093\n",
            "f1 score 검증 : 0.5407128368588815\n"
          ],
          "name": "stdout"
        }
      ]
    },
    {
      "cell_type": "code",
      "metadata": {
        "colab": {
          "base_uri": "https://localhost:8080/"
        },
        "id": "ZQ8ca9Bdfmsw",
        "outputId": "13321aa8-29ac-4d3e-fe49-7334a0c6d6c8"
      },
      "source": [
        "# state 특성을 삭제하지 않고 그대로 사용\n",
        "\n",
        "y_train_pred = pipe_DT.predict(X_train)\n",
        "y_val_pred = pipe_DT.predict(X_val)\n",
        "\n",
        "print('accuracy score 훈련 :', pipe_DT.score(X_train, y_train))\n",
        "print('accuracy score 검증 :', pipe_DT.score(X_val, y_val))\n",
        "print('\\nf1 score 훈련 :', f1_score(y_train, y_train_pred))\n",
        "print('f1 score 검증 :', f1_score(y_val, y_val_pred))"
      ],
      "execution_count": 43,
      "outputs": [
        {
          "output_type": "stream",
          "text": [
            "accuracy score 훈련 : 0.8401387776888177\n",
            "accuracy score 검증 : 0.8152057881627328\n",
            "\n",
            "f1 score 훈련 : 0.6097154854122928\n",
            "f1 score 검증 : 0.5543478260869567\n"
          ],
          "name": "stdout"
        }
      ]
    },
    {
      "cell_type": "markdown",
      "metadata": {
        "id": "UeVWO4YzdrNv"
      },
      "source": [
        "어제 high cardinality 때문에 삭제했던 state 특성을 다시 살려주니 ordinal encoder를 사용했을 때 정확도가 미세하게 증가하였다. high cardinality 문제가 없으므로 state 특성을 삭제하지 않고 그대로 사용하는게 성능에 더 좋을 것이다. 다만 훈련셋과 검증셋의 스코어 갭이 어제보다 더 커졌다. 이는 좀 더 과적합이 일어났다고 생각된다. 추후에 특성공학과 하이퍼파라미터를 더 수정해야겠다.\n",
        "\n",
        "```\n",
        "어제 측정 결과 : state 특성 삭제, onehotencoder, iterativeimputer\n",
        "- accuracy score 훈련 : 0.840464964564244\n",
        "- accuracy score 검증 : 0.8163918870833827\n",
        "- f1 score 훈련 : 0.5984475294820123\n",
        "- f1 score 검증 : 0.5447058823529412\n",
        "```\n",
        "\n",
        "\n",
        "\n"
      ]
    },
    {
      "cell_type": "code",
      "metadata": {
        "colab": {
          "base_uri": "https://localhost:8080/",
          "height": 498
        },
        "id": "PSer3yOFh7ju",
        "outputId": "3988ba2e-1ed5-418e-d800-7f4eff84dacc"
      },
      "source": [
        "# 특성 중요도 파악\n",
        "\n",
        "model_tree = pipe_DT.named_steps['decisiontreeclassifier']\n",
        "\n",
        "orde = pipe_DT.named_steps['ordinalencoder']\n",
        "orde_columns = orde.transform(X_train).columns\n",
        "importances = pd.Series(model_tree.feature_importances_, orde.columns)\n",
        "\n",
        "plt.figure(figsize = (8, 8))\n",
        "plt.title('using ordinalencoder')\n",
        "importances.sort_values().plot.barh();"
      ],
      "execution_count": 62,
      "outputs": [
        {
          "output_type": "display_data",
          "data": {
            "image/png": "[encoded data removed]",
            "text/plain": [
              "<Figure size 576x576 with 1 Axes>"
            ]
          },
          "metadata": {
            "tags": [],
            "image/png": {
              "width": 616,
              "height": 481
            },
            "needs_background": "light"
          }
        }
      ]
    },
    {
      "cell_type": "markdown",
      "metadata": {
        "id": "XYWrDCAcmKll"
      },
      "source": [
        "원핫인코더를 사용했을 때와 각 특성의 중요도가 비슷한 부분도 있지만 조금 다른 양상을 띄는 것들이 있다. 예를 들어 원핫인코더를 사용할 때 삭제했던 state가 생각보다 특성 중요도에서 상위권에 위치하고, 연령대 또한 원핫인코더를 사용했을 때에는 보기 힘들었는데 어느정도 중요한 특성이라고 생각된다."
      ]
    },
    {
      "cell_type": "markdown",
      "metadata": {
        "id": "SIedUKMRowk6"
      },
      "source": [
        "### 3) (도전과제🔥) 수업에 사용하지 않은 다른 종류의 [category_encoders](http://contrib.scikit-learn.org/category_encoders/)을 적용해 보고 인코더에 대해 설명하세요\n",
        "\n"
      ]
    },
    {
      "cell_type": "code",
      "metadata": {
        "id": "emX6VT5xowk6",
        "colab": {
          "base_uri": "https://localhost:8080/"
        },
        "outputId": "a15c30e3-3b45-4c89-8340-34836749f665"
      },
      "source": [
        "from category_encoders import TargetEncoder\n",
        "\n",
        "pipe_DT_different_encoder = make_pipeline(\n",
        "    TargetEncoder(),\n",
        "    IterativeImputer(max_iter = 20, random_state = 34),\n",
        "    DecisionTreeClassifier(min_samples_split = 40, min_samples_leaf = 20, max_depth = 10, random_state = 34, criterion = 'entropy')\n",
        ")\n",
        "\n",
        "pipe_DT_different_encoder.fit(X_train, y_train)"
      ],
      "execution_count": 68,
      "outputs": [
        {
          "output_type": "stream",
          "text": [
            "/usr/local/lib/python3.6/dist-packages/category_encoders/utils.py:21: FutureWarning: is_categorical is deprecated and will be removed in a future version.  Use is_categorical_dtype instead\n",
            "  elif pd.api.types.is_categorical(cols):\n"
          ],
          "name": "stderr"
        },
        {
          "output_type": "execute_result",
          "data": {
            "text/plain": [
              "Pipeline(memory=None,\n",
              "         steps=[('targetencoder',\n",
              "                 TargetEncoder(cols=['opinion_h1n1_vacc_effective',\n",
              "                                     'opinion_h1n1_risk',\n",
              "                                     'opinion_h1n1_sick_from_vacc', 'agegrp',\n",
              "                                     'employment_status', 'census_msa',\n",
              "                                     'employment_industry',\n",
              "                                     'employment_occupation', 'state'],\n",
              "                               drop_invariant=False, handle_missing='value',\n",
              "                               handle_unknown='value', min_samples_leaf=1,\n",
              "                               return_df=True, smoothi...\n",
              "                                  skip_complete=False, tol=0.001, verbose=0)),\n",
              "                ('decisiontreeclassifier',\n",
              "                 DecisionTreeClassifier(ccp_alpha=0.0, class_weight=None,\n",
              "                                        criterion='entropy', max_depth=10,\n",
              "                                        max_features=None, max_leaf_nodes=None,\n",
              "                                        min_impurity_decrease=0.0,\n",
              "                                        min_impurity_split=None,\n",
              "                                        min_samples_leaf=20,\n",
              "                                        min_samples_split=40,\n",
              "                                        min_weight_fraction_leaf=0.0,\n",
              "                                        presort='deprecated', random_state=34,\n",
              "                                        splitter='best'))],\n",
              "         verbose=False)"
            ]
          },
          "metadata": {
            "tags": []
          },
          "execution_count": 68
        }
      ]
    },
    {
      "cell_type": "code",
      "metadata": {
        "colab": {
          "base_uri": "https://localhost:8080/"
        },
        "id": "jf_KDFt54BEy",
        "outputId": "25fd036f-a0d4-4ff6-ab82-c02f368ead09"
      },
      "source": [
        "y_train_pred = pipe_DT_different_encoder.predict(X_train)\n",
        "y_val_pred = pipe_DT_different_encoder.predict(X_val)\n",
        "print('accuracy score 훈련 :', pipe_DT_different_encoder.score(X_train, y_train))\n",
        "print('accuracy score 검증 :', pipe_DT_different_encoder.score(X_val, y_val))\n",
        "print('\\nf1 score 훈련 :', f1_score(y_train, y_train_pred))\n",
        "print('f1 score 검증 :', f1_score(y_val, y_val_pred))\n",
        "\n",
        "te = pipe_DT_different_encoder.named_steps['targetencoder']\n",
        "te_columns = te.transform(X_train).columns\n",
        "print('\\nlength of columns :', len(te_columns))\n",
        "te_columns"
      ],
      "execution_count": 75,
      "outputs": [
        {
          "output_type": "stream",
          "text": [
            "accuracy score 훈련 : 0.8422441657029327\n",
            "accuracy score 검증 : 0.8173407662199027\n",
            "\n",
            "f1 score 훈련 : 0.6103135071784354\n",
            "f1 score 검증 : 0.5564516129032259\n",
            "\n",
            "length of columns : 34\n"
          ],
          "name": "stdout"
        },
        {
          "output_type": "execute_result",
          "data": {
            "text/plain": [
              "Index(['h1n1_concern', 'h1n1_knowledge', 'behavioral_antiviral_meds',\n",
              "       'behavioral_avoidance', 'behavioral_face_mask', 'behavioral_wash_hands',\n",
              "       'behavioral_large_gatherings', 'behavioral_outside_home',\n",
              "       'behavioral_touch_face', 'doctor_recc_h1n1', 'chronic_med_condition',\n",
              "       'child_under_6_months', 'health_insurance', 'health_worker',\n",
              "       'opinion_h1n1_vacc_effective', 'opinion_h1n1_risk',\n",
              "       'opinion_h1n1_sick_from_vacc', 'agegrp', 'education_comp', 'raceeth4_i',\n",
              "       'sex_i', 'inc_pov', 'marital', 'rent_own_r', 'employment_status',\n",
              "       'census_region', 'census_msa', 'n_adult_r', 'household_children',\n",
              "       'n_people_r', 'employment_industry', 'employment_occupation',\n",
              "       'hhs_region', 'state'],\n",
              "      dtype='object')"
            ]
          },
          "metadata": {
            "tags": []
          },
          "execution_count": 75
        }
      ]
    },
    {
      "cell_type": "markdown",
      "metadata": {
        "id": "bIZxAYva5vZ7"
      },
      "source": [
        "**TargetEncoder** : 타겟인코더를 사용했을 때 원핫,오디널보다 더 나은 측정 결과를 보이는 것 같으니 랜덤포레스트에도 똑같이 적용해보도록 하겠다.\n",
        "- 종속 변수(target)의 정보를 사용하는 인코더 베이지안 인코더\n",
        "- 차원을 늘리지 않으며, high cardinality 문제를 가진 데이터에 적합하게 작동함\n",
        "- 분류문제에 적합\n",
        "- 차원의 저주에 빠지기 쉬운 원핫인코딩의 단점을 상쇄할 수 있음\n",
        "- 아래 예시에서 'animal group' 특성 중 'cat' 값을 가지고 있고 해당 데이터의 타겟값이 '1'이라면 (cat이면서 target1 / 전체데이터) 값으로 대체됨\n",
        "- 마찬가지로 타겟(종속변수)가 연속형이라면 위와 같은 방식에서 평균값을 사용해서 대체됨\n",
        "\n",
        "Ex.\n",
        "\n",
        "![image.png](data:image/png;base64,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)\n"
      ]
    },
    {
      "cell_type": "markdown",
      "metadata": {
        "id": "j96HXWYMowk6"
      },
      "source": [
        "### 4) 랜덤포레스트 모델을 적용한 후의 결과를 캐글에 제출하세요(랜덤포레스트를 적용하고 성능이 오히려 떨어졌을 수도 있습니다! 만약 그렇다면 왜 그럴까 고민을 해 보고 적어주세요(정답이 아니여도 괜찮습니다. 본인 논리로 고찰하세요))"
      ]
    },
    {
      "cell_type": "code",
      "metadata": {
        "id": "iec7Hffeowk7",
        "colab": {
          "base_uri": "https://localhost:8080/"
        },
        "outputId": "385f1da8-1d25-4fb4-8eb7-af1df6bb8242"
      },
      "source": [
        "#랜덤포레스트 모델\n",
        "%%time\n",
        "\n",
        "pipe_RF = make_pipeline(\n",
        "    TargetEncoder(),\n",
        "    IterativeImputer(max_iter = 20, random_state = 34),\n",
        "    RandomForestClassifier(n_estimators = 200, n_jobs = -1, max_features = 'auto',\n",
        "                           max_depth = 10, oob_score = True, criterion = 'entropy', random_state = 34)\n",
        ")\n",
        "\n",
        "pipe_RF.fit(X_train, y_train)"
      ],
      "execution_count": 108,
      "outputs": [
        {
          "output_type": "stream",
          "text": [
            "/usr/local/lib/python3.6/dist-packages/category_encoders/utils.py:21: FutureWarning: is_categorical is deprecated and will be removed in a future version.  Use is_categorical_dtype instead\n",
            "  elif pd.api.types.is_categorical(cols):\n"
          ],
          "name": "stderr"
        },
        {
          "output_type": "stream",
          "text": [
            "CPU times: user 41.4 s, sys: 23.1 s, total: 1min 4s\n",
            "Wall time: 33.6 s\n"
          ],
          "name": "stdout"
        }
      ]
    },
    {
      "cell_type": "code",
      "metadata": {
        "colab": {
          "base_uri": "https://localhost:8080/"
        },
        "id": "4UHbruL5FtI2",
        "outputId": "4c7a750a-a8e8-457e-accc-b6d2129d83f1"
      },
      "source": [
        "# 랜덤포레스트 사용후 과적함이 심해짐\n",
        "\n",
        "# estimator = 100\n",
        "\n",
        "y_train_pred = pipe_RF.predict(X_train)\n",
        "y_val_pred = pipe_RF.predict(X_val)\n",
        "\n",
        "print('accuracy score 훈련 :', pipe_RF.score(X_train, y_train))\n",
        "print('accuracy score 검증 :', pipe_RF.score(X_val, y_val))\n",
        "print('\\nf1 score 훈련 :', f1_score(y_train, y_train_pred))\n",
        "print('f1 score 검증 :', f1_score(y_val, y_val_pred))\n",
        "\n"
      ],
      "execution_count": 85,
      "outputs": [
        {
          "output_type": "stream",
          "text": [
            "accuracy score 훈련 : 0.9964119443703111\n",
            "accuracy score 검증 : 0.8140196892420828\n",
            "\n",
            "f1 score 훈련 : 0.9924830713797602\n",
            "f1 score 검증 : 0.5288461538461539\n"
          ],
          "name": "stdout"
        }
      ]
    },
    {
      "cell_type": "code",
      "metadata": {
        "colab": {
          "base_uri": "https://localhost:8080/"
        },
        "id": "HYHZgbhFGyfI",
        "outputId": "c3853c1b-846c-489a-d2cc-308a1190114d"
      },
      "source": [
        "# 하이퍼파라미터 조정 후 과적합 해결\n",
        "# TargetEncoder를 사용하였더니 검증데이터 스코어도 같이 증가함\n",
        "\n",
        "# estimator = 100, min_samples_split = 40, min_samples_leaf = 20, max_depth = 10\n",
        "\n",
        "y_train_pred = pipe_RF.predict(X_train)\n",
        "y_val_pred = pipe_RF.predict(X_val)\n",
        "\n",
        "print('accuracy score 훈련 :', pipe_RF.score(X_train, y_train))\n",
        "print('accuracy score 검증 :', pipe_RF.score(X_val, y_val))\n",
        "print('\\nf1 score 훈련 :', f1_score(y_train, y_train_pred))\n",
        "print('f1 score 검증 :', f1_score(y_val, y_val_pred))"
      ],
      "execution_count": 90,
      "outputs": [
        {
          "output_type": "stream",
          "text": [
            "accuracy score 훈련 : 0.8376775494469649\n",
            "accuracy score 검증 : 0.8208990629818527\n",
            "\n",
            "f1 score 훈련 : 0.5765779702970297\n",
            "f1 score 검증 : 0.537660747091243\n"
          ],
          "name": "stdout"
        }
      ]
    },
    {
      "cell_type": "code",
      "metadata": {
        "colab": {
          "base_uri": "https://localhost:8080/"
        },
        "id": "dze2sO8oJHUs",
        "outputId": "62447a6d-3802-42f6-d519-021f9ddc6387"
      },
      "source": [
        "# estimator = 100, max_depth = 10\n",
        "\n",
        "y_train_pred = pipe_RF.predict(X_train)\n",
        "y_val_pred = pipe_RF.predict(X_val)\n",
        "\n",
        "print('accuracy score 훈련 :', pipe_RF.score(X_train, y_train))\n",
        "print('accuracy score 검증 :', pipe_RF.score(X_val, y_val))\n",
        "print('\\nf1 score 훈련 :', f1_score(y_train, y_train_pred))\n",
        "print('f1 score 검증 :', f1_score(y_val, y_val_pred))"
      ],
      "execution_count": 92,
      "outputs": [
        {
          "output_type": "stream",
          "text": [
            "accuracy score 훈련 : 0.8545206535598849\n",
            "accuracy score 검증 : 0.8231526509310877\n",
            "\n",
            "f1 score 훈련 : 0.6210997837503861\n",
            "f1 score 검증 : 0.5410895660203139\n"
          ],
          "name": "stdout"
        }
      ]
    },
    {
      "cell_type": "code",
      "metadata": {
        "colab": {
          "base_uri": "https://localhost:8080/"
        },
        "id": "ruQ0AhPPLpKQ",
        "outputId": "eeb0a6f0-8094-404f-ceaa-1c502bfe6c93"
      },
      "source": [
        "# estimator = 200, max_depth = 10\n",
        "\n",
        "y_train_pred = pipe_RF.predict(X_train)\n",
        "y_val_pred = pipe_RF.predict(X_val)\n",
        "\n",
        "print('accuracy score 훈련 :', pipe_RF.score(X_train, y_train))\n",
        "print('accuracy score 검증 :', pipe_RF.score(X_val, y_val))\n",
        "print('\\nf1 score 훈련 :', f1_score(y_train, y_train_pred))\n",
        "print('f1 score 검증 :', f1_score(y_val, y_val_pred))"
      ],
      "execution_count": 109,
      "outputs": [
        {
          "output_type": "stream",
          "text": [
            "accuracy score 훈련 : 0.8556771343000327\n",
            "accuracy score 검증 : 0.8227968212548926\n",
            "\n",
            "f1 score 훈련 : 0.6257017611320465\n",
            "f1 score 검증 : 0.5414364640883979\n"
          ],
          "name": "stdout"
        }
      ]
    },
    {
      "cell_type": "code",
      "metadata": {
        "id": "IElm9sy-bNqJ"
      },
      "source": [
        "y_test_pred = pipe_RF.predict(X_test)\n",
        "len(y_test_pred)\n",
        "\n",
        "submission = pd.read_csv('/content/drive/MyDrive/Colab Notebooks/sample_data/prediction-of-h1n1-vaccination/submission.csv')\n",
        "submission['vacc_h1n1_f'] = y_test_pred\n",
        "submission.applymap(int)\n",
        "submission.to_csv('submission.csv', index = False)"
      ],
      "execution_count": 110,
      "outputs": []
    },
    {
      "cell_type": "markdown",
      "metadata": {
        "id": "XHlqpgbPowk7"
      },
      "source": [
        "## 참고자료\n",
        "\n",
        "- [Random Forests for Complete Beginners](https://victorzhou.com/blog/intro-to-random-forests/)"
      ]
    }
  ]
}